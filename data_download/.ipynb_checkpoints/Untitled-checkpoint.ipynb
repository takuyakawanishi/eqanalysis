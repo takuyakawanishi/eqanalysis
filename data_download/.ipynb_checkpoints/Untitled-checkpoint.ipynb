{
 "cells": [
  {
   "cell_type": "code",
   "execution_count": 7,
   "id": "adc03766",
   "metadata": {},
   "outputs": [
    {
     "name": "stdout",
     "output_type": "stream",
     "text": [
      "100% [......................................................] 1260575 / 1260575"
     ]
    }
   ],
   "source": [
    "import numpy as np\n",
    "import wget\n",
    "\n",
    "pref = \"https://www.data.jma.go.jp/eqev/data/bulletin/shindo.html\"\n",
    "pref = \"https://www.data.jma.go.jp/eqev/data/bulletin/data/shindo/i\"\n",
    "\n",
    "years = 1919 + np.arange(102)\n",
    "\n",
    "for year in years:\n",
    "    url = pref + str(year) + \".zip\"\n",
    "    wget.download(url)\n"
   ]
  },
  {
   "cell_type": "code",
   "execution_count": null,
   "id": "3c225045",
   "metadata": {},
   "outputs": [],
   "source": []
  }
 ],
 "metadata": {
  "hide_input": false,
  "kernelspec": {
   "display_name": "base",
   "language": "python",
   "name": "base"
  },
  "language_info": {
   "codemirror_mode": {
    "name": "ipython",
    "version": 3
   },
   "file_extension": ".py",
   "mimetype": "text/x-python",
   "name": "python",
   "nbconvert_exporter": "python",
   "pygments_lexer": "ipython3",
   "version": "3.9.13"
  }
 },
 "nbformat": 4,
 "nbformat_minor": 5
}
