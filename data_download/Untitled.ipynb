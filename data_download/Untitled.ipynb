{
 "cells": [
  {
   "cell_type": "code",
   "execution_count": 3,
   "id": "bfccba9f",
   "metadata": {},
   "outputs": [
    {
     "name": "stdout",
     "output_type": "stream",
     "text": [
      "100% [......................................................] 1260575 / 1260575"
     ]
    }
   ],
   "source": [
    "import numpy as np\n",
    "import wget\n",
    "\n",
    "\n",
    "pref = \"https://www.data.jma.go.jp/eqev/data/bulletin/data/shindo/i\"\n",
    "years = 1919 + np.arange(102)\n",
    "for year in years:\n",
    "    url = pref + str(year) + \".zip\"\n",
    "    wget.download(url)\n"
   ]
  },
  {
   "cell_type": "code",
   "execution_count": 4,
   "id": "3d4b7675",
   "metadata": {},
   "outputs": [
    {
     "name": "stdout",
     "output_type": "stream",
     "text": [
      "\r",
      "  0% [                                                        ]      0 / 100061\r",
      "  8% [....                                                    ]   8192 / 100061\r",
      " 16% [.........                                               ]  16384 / 100061\r",
      " 24% [.............                                           ]  24576 / 100061\r",
      " 32% [..................                                      ]  32768 / 100061\r",
      " 40% [......................                                  ]  40960 / 100061\r",
      " 49% [...........................                             ]  49152 / 100061\r",
      " 57% [................................                        ]  57344 / 100061\r",
      " 65% [....................................                    ]  65536 / 100061\r",
      " 73% [.........................................               ]  73728 / 100061\r",
      " 81% [.............................................           ]  81920 / 100061\r",
      " 90% [..................................................      ]  90112 / 100061\r",
      " 98% [....................................................... ]  98304 / 100061\r",
      "100% [........................................................] 100061 / 100061"
     ]
    },
    {
     "data": {
      "text/plain": [
       "'code_p.zip'"
      ]
     },
     "execution_count": 4,
     "metadata": {},
     "output_type": "execute_result"
    }
   ],
   "source": [
    "url = \"https://www.data.jma.go.jp/eqev/data/bulletin/data/shindo/code_p.zip\"\n",
    "wget.download(url)"
   ]
  }
 ],
 "metadata": {
  "hide_input": false,
  "kernelspec": {
   "display_name": "base",
   "language": "python",
   "name": "base"
  },
  "language_info": {
   "codemirror_mode": {
    "name": "ipython",
    "version": 3
   },
   "file_extension": ".py",
   "mimetype": "text/x-python",
   "name": "python",
   "nbconvert_exporter": "python",
   "pygments_lexer": "ipython3",
   "version": "3.9.13"
  }
 },
 "nbformat": 4,
 "nbformat_minor": 5
}
