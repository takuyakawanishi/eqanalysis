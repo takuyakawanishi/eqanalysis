{
 "cells": [
  {
   "cell_type": "markdown",
   "id": "25c8030e",
   "metadata": {},
   "source": [
    "### 地震解析ツール EQAnalysis\n",
    "\n",
    "### 緒言\n",
    "\n",
    "* "
   ]
  },
  {
   "cell_type": "markdown",
   "id": "a9d8cbd5",
   "metadata": {},
   "source": [
    "### TO DOs\n",
    "\n",
    "* intensity--frequency, 地震発生直前, 地震発生後24h00min00sec, 地震発生後120h00min00sec, 地震発生後30days, 2020.12.31 23:59:59\n",
    "\n",
    "* organized_codes_pre_01, add datetime_b_s, datetime_e_s\n",
    "* add functions to handle find_available_periods, calc_periods_intersection, calc_periods_duration, up to seconds.\n",
    "\n",
    "* Consider polymorphism for these.\n",
    "\n"
   ]
  },
  {
   "cell_type": "code",
   "execution_count": 4,
   "id": "e2717d98",
   "metadata": {},
   "outputs": [
    {
     "name": "stdout",
     "output_type": "stream",
     "text": [
      "4.685039370078741\n",
      "58.419999999999995\n"
     ]
    }
   ],
   "source": [
    "# figure sizes\n",
    "\n",
    "# 119 mm \n",
    "\n",
    "a = 119 / 25.4\n",
    "print(a)\n",
    "w = 2.3\n",
    "print(w * 25.4)"
   ]
  },
  {
   "cell_type": "code",
   "execution_count": 7,
   "id": "69c36421",
   "metadata": {},
   "outputs": [
    {
     "data": {
      "text/plain": [
       "0.7777777777777778"
      ]
     },
     "execution_count": 7,
     "metadata": {},
     "output_type": "execute_result"
    }
   ],
   "source": [
    "7/9"
   ]
  },
  {
   "cell_type": "code",
   "execution_count": 13,
   "id": "f75073ac",
   "metadata": {},
   "outputs": [
    {
     "data": {
      "text/plain": [
       "0.7894736842105263"
      ]
     },
     "execution_count": 13,
     "metadata": {},
     "output_type": "execute_result"
    }
   ],
   "source": [
    "15/19"
   ]
  },
  {
   "cell_type": "markdown",
   "id": "610424b2",
   "metadata": {},
   "source": [
    "## 方法\n",
    "\n",
    "### 使用データ\n",
    "\n",
    "* 気象庁震度データ　https://www.data.jma.go.jp/eqev/data/bulletin/shindo.html\n",
    "* 1919年から2020年までのデータ\n",
    "* 震度観測点一覧 (code_p.zip)\n",
    "\n",
    "### データ整理\n",
    "\n",
    "#### 観測点のグルーピング\n",
    "\n",
    "* 明らかに後継となる観測点、事実上の後継となる観測点、等をセットとして考える.\n",
    "* 条件 (a) 観測データが連続していること, (b) 緯度経度差から概算した距離が 9 km 以内であること.\n",
    "\n",
    "* **TODO** (b) をもっと正確に.\n",
    "\n",
    "* code_p.dat 上で期間重複のある場合には, 震度データのほうで重複がないことを確認. 観測期間を修正したものを organized.csv に記述.\n",
    "\n",
    "* グルーピングの結果は organized.csv に.\n",
    "\n",
    "\n",
    "#### 観測点毎のデータ整理\n",
    "\n",
    "* 1919年から2020年までのすべてのレコードを観測点別に抽出, \n",
    "* \"st_stationcode.txt\" 名のファイルにデータを格納.\n",
    "* 項目は \"観測点番号\", \"震度\" (1, 2, 3, 4, 5, 6, 7, A, B, C, D), \"年\", \"月\", \"日\", \"時\", \"分\", \"秒\", \"計器計測震度\", \"最大加速度\"\n",
    "\n",
    "\n",
    "\n"
   ]
  },
  {
   "cell_type": "markdown",
   "id": "c3477437",
   "metadata": {},
   "source": [
    "### 方法\n",
    "\n",
    "\n",
    "\n",
    "* 震度ー頻度関係\n",
    "* 地震間間隔\n",
    "* Partial validation\n",
    "* Contour"
   ]
  },
  {
   "cell_type": "markdown",
   "id": "f1fd4712",
   "metadata": {},
   "source": [
    "### 結果及び考察\n",
    "\n",
    "#### 観測地点毎の震度ー頻度関係\n",
    "\n",
    "* 例\n",
    "* 震度6以上地震前後の震度ー頻度関係の変化\n",
    "  * パターン分類\n",
    "\n",
    "\n",
    "#### 地震間間隔の分布\n",
    "\n",
    "* 短いインターバルを除けば, ほぼ Exponential （どう示すか）\n",
    "* 要は、余震や群発を除けばほぼ Poisson かどうか\n",
    "\n",
    "\n",
    "#### Partial validation\n",
    "\n",
    "* 震度5以上を観測した観測地点における, 地震発生時における震度5以上地震が起こらない確率の分布\n",
    "* Uniform ではなく、右肩上がり、なぜか（要考察）\n",
    "* この分布と地震間間隔とから、確率論的考察(A)\n",
    "\n",
    "#### Contour\n",
    "\n",
    "* 震度6.5 地震のcontour\n",
    "* この信頼性は, 考察(A)による.\n",
    "\n",
    "\n",
    "\n"
   ]
  },
  {
   "cell_type": "code",
   "execution_count": null,
   "id": "365b0786",
   "metadata": {},
   "outputs": [],
   "source": []
  },
  {
   "cell_type": "markdown",
   "id": "f105d95c",
   "metadata": {},
   "source": [
    "## 付録\n",
    "\n",
    "### 観測点のグルーピング\n",
    "\n",
    "#### 観測地点メタデータ\n",
    "\n",
    "* code_p.dat を使いやすくする.\n",
    "* code_p.dat は, タブ区切りテキストとして, カラムインデックスなしで, 観測地点番号, 観測点名（住所の一部）, 緯度, 経度, 観測開始日時分秒, 観測終了日時分秒, のデータが収められている.\n",
    "* この情報を code_p_df.csv として, Pandas で使いやすいように, \"code\", \"address\", \"lat\", \"lon\", \"from\", \"to\" のカラムインデックスをつけて data フォルダーに保存した.\n",
    "\n",
    "#### グルーピング\n",
    "\n",
    "* src/eqa_takuyakawanishi/utilities_preparation/\n",
    "* organize_station.py, で, グルーピングを行い, \n",
    "* organize_station_2.py で期間重複点の調整を行なった. \n",
    "* グルーピングされた観測点は, organized_codes_pre_02.csv に格納されている.\n",
    "* 項目は, \n",
    "\n"
   ]
  }
 ],
 "metadata": {
  "hide_input": false,
  "kernelspec": {
   "display_name": "base",
   "language": "python",
   "name": "base"
  },
  "language_info": {
   "codemirror_mode": {
    "name": "ipython",
    "version": 3
   },
   "file_extension": ".py",
   "mimetype": "text/x-python",
   "name": "python",
   "nbconvert_exporter": "python",
   "pygments_lexer": "ipython3",
   "version": "3.9.13"
  }
 },
 "nbformat": 4,
 "nbformat_minor": 5
}
