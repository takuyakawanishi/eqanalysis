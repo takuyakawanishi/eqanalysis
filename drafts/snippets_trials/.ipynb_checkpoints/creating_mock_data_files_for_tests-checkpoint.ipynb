{
 "cells": [
  {
   "cell_type": "code",
   "execution_count": 21,
   "id": "82463189",
   "metadata": {},
   "outputs": [],
   "source": [
    "# Mock data for test\n",
    "\n",
    "import numpy as np\n",
    "import pandas as pd\n",
    "import os\n",
    "import sys\n",
    "\n",
    "sys.path.append(\"../..\")\n",
    "\n",
    "import src.eqa_takuyakawanishi.eqa as eqa\n",
    "\n",
    "\n",
    "df = pd.DataFrame(\n",
    "    [\n",
    "        [1999, 1, 1, 1, 12, 0, 1],\n",
    "        [1999, 1, 10, 11, 12, 0, 2],\n",
    "        [1999, 1, 11, 11, 12, 0, 3],\n",
    "        [2000, 5, 12, 11, 12, 0, 1],\n",
    "        [2000, 2, 3, 1, 12, 0, 1],\n",
    "        [2005, 1, 1, 1, 12, 0, 2],\n",
    "        [2006, 1, 2, 14, 12, 0, 1],\n",
    "        [2006, 1, 3, 15, 12, 0, 1],\n",
    "        [2007, 2, 3, 1, 12, 0, 1],\n",
    "        [2007, 2, 3, 1, 12, 0, 1],\n",
    "    ],\n",
    "    columns=[\"year\", \"month\", \"day\", \"hour\", \"minite\", \"second\", \"intensity\"])\n",
    "\n",
    "# df = eqa.add_date_column_to_dataframe(df)\n",
    "df.to_csv(\"../../tests/stationwise_test/st_1001.txt\", index=None)"
   ]
  },
  {
   "cell_type": "code",
   "execution_count": 26,
   "id": "1321621f",
   "metadata": {},
   "outputs": [],
   "source": [
    "df = pd.DataFrame(\n",
    "    [\n",
    "        [2008, 9, 6, 12, 0, 0, 1],\n",
    "        [2008, 10, 8, 12, 0, 0, 1],\n",
    "        [2008, 10, 8, 13, 0, 0, 2],\n",
    "        [2008, 12, 8, 12, 0, 0, 1],\n",
    "        [2009, 5, 5, 12, 0, 0, 1],\n",
    "        [2009, 5, 6, 12, 0, 0, 1],\n",
    "        [2009, 5, 7, 12, 0, 0, 2],\n",
    "        [2009, 5, 8, 12, 0, 0, 3],\n",
    "        [2010, 4, 8, 12, 0, 0, 1],\n",
    "    ],\n",
    "    columns=[\"year\", \"month\", \"day\", \"hour\", \"minite\", \"second\", \"intensity\"])\n",
    "df.to_csv(\"../../tests/stationwise_test/st_1002.txt\", index=None)"
   ]
  }
 ],
 "metadata": {
  "hide_input": false,
  "kernelspec": {
   "display_name": "base",
   "language": "python",
   "name": "base"
  },
  "language_info": {
   "codemirror_mode": {
    "name": "ipython",
    "version": 3
   },
   "file_extension": ".py",
   "mimetype": "text/x-python",
   "name": "python",
   "nbconvert_exporter": "python",
   "pygments_lexer": "ipython3",
   "version": "3.9.13"
  }
 },
 "nbformat": 4,
 "nbformat_minor": 5
}
