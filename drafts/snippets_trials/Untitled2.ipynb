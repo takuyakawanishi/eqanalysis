{
 "cells": [
  {
   "cell_type": "code",
   "execution_count": null,
   "id": "89d42a84",
   "metadata": {},
   "outputs": [],
   "source": [
    "import pandas as pd\n",
    "\n",
    "df = pd.DataFrame([[1, 2], [2, 3], [1, 3], [\"A\", 1], [\"C\", 2], [1, 2]], columns = [\"intensity\", \"aux\"])\n",
    "print(df)\n",
    "count_1 = df['intensity'].value_counts()[\"B\"]\n",
    "print(count_1)"
   ]
  },
  {
   "cell_type": "code",
   "execution_count": 2,
   "id": "533c905d",
   "metadata": {},
   "outputs": [
    {
     "data": {
      "text/plain": [
       "2.625"
      ]
     },
     "execution_count": 2,
     "metadata": {},
     "output_type": "execute_result"
    }
   ],
   "source": [
    "1.75 * 1.5"
   ]
  }
 ],
 "metadata": {
  "hide_input": false,
  "kernelspec": {
   "display_name": "base",
   "language": "python",
   "name": "base"
  },
  "language_info": {
   "codemirror_mode": {
    "name": "ipython",
    "version": 3
   },
   "file_extension": ".py",
   "mimetype": "text/x-python",
   "name": "python",
   "nbconvert_exporter": "python",
   "pygments_lexer": "ipython3",
   "version": "3.9.13"
  }
 },
 "nbformat": 4,
 "nbformat_minor": 5
}
