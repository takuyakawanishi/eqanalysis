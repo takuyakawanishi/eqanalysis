{
 "cells": [
  {
   "cell_type": "code",
   "execution_count": null,
   "id": "34dba112",
   "metadata": {},
   "outputs": [],
   "source": []
  }
 ],
 "metadata": {
  "hide_input": false,
  "kernelspec": {
   "display_name": "base",
   "language": "python",
   "name": "base"
  }
 },
 "nbformat": 4,
 "nbformat_minor": 5
}
