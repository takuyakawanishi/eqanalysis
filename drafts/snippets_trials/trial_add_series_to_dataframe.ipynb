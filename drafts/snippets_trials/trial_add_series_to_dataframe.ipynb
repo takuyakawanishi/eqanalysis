{
 "cells": [
  {
   "cell_type": "code",
   "execution_count": 28,
   "id": "7a91a27b",
   "metadata": {},
   "outputs": [
    {
     "name": "stdout",
     "output_type": "stream",
     "text": [
      "                    0\n",
      "station       8070070\n",
      "from       1954-01-01\n",
      "to         2020-12-31\n",
      "duration        24471\n",
      "int1           3608.0\n",
      "int2           1406.0\n",
      "int3            342.0\n",
      "int4             75.0\n",
      "int5              9.0\n",
      "int6              0.0\n",
      "int7              0.0\n",
      "slope          -0.724\n",
      "intercept       2.836\n",
      "rvalue         -0.995\n",
      "est7          0.00586\n",
      "est6            0.031\n",
      "                    0           1           2\n",
      "station       8070070     8070070     8070070\n",
      "from       1954-01-01  1954-01-01  1954-01-01\n",
      "to         2020-12-31  2020-12-31  2020-12-31\n",
      "duration        24471       24471       24471\n",
      "int1           3608.0      3608.0      3608.0\n",
      "int2           1406.0      1406.0      1406.0\n",
      "int3            342.0       342.0       342.0\n",
      "int4             75.0        75.0        75.0\n",
      "int5              9.0         9.0         9.0\n",
      "int6              0.0         0.0         0.0\n",
      "int7              0.0         0.0         0.0\n",
      "slope          -0.724      -0.724      -0.724\n",
      "intercept       2.836       2.836       2.836\n",
      "rvalue         -0.995      -0.995      -0.995\n",
      "est7          0.00586     0.00586     0.00586\n",
      "est6            0.031       0.031       0.031\n"
     ]
    }
   ],
   "source": [
    "import numpy as np\n",
    "import pandas as pd\n",
    "\n",
    "df = pd.DataFrame()\n",
    "ser = pd.read_csv(\"summary_ser.csv\", index_col=0)\n",
    "print(ser)\n",
    "for i in range(3):\n",
    "    # if i == 0:\n",
    "        # df = ser\n",
    "        # df = df.transpose()\n",
    "        # print(df)\n",
    "        \n",
    "    df = pd.concat([df, ser], ignore_index=True, axis=1)\n",
    "print(df)"
   ]
  },
  {
   "cell_type": "code",
   "execution_count": 17,
   "id": "21bfa195",
   "metadata": {},
   "outputs": [
    {
     "name": "stdout",
     "output_type": "stream",
     "text": [
      "zsh:1: unknown username ''\r\n"
     ]
    }
   ],
   "source": []
  }
 ],
 "metadata": {
  "hide_input": false,
  "kernelspec": {
   "display_name": "base",
   "language": "python",
   "name": "base"
  },
  "language_info": {
   "codemirror_mode": {
    "name": "ipython",
    "version": 3
   },
   "file_extension": ".py",
   "mimetype": "text/x-python",
   "name": "python",
   "nbconvert_exporter": "python",
   "pygments_lexer": "ipython3",
   "version": "3.9.13"
  }
 },
 "nbformat": 4,
 "nbformat_minor": 5
}
