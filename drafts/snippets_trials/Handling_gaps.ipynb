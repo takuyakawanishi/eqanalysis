{
 "cells": [
  {
   "cell_type": "markdown",
   "id": "8cc23a55",
   "metadata": {},
   "source": [
    "### やりたいこと\n",
    "\n",
    "* 1 ギャップがある場合の、period vs occurrence,\n"
   ]
  },
  {
   "cell_type": "markdown",
   "id": "0ae82b01",
   "metadata": {},
   "source": [
    "#### データは\n",
    "\n",
    "* 開始日時列 = [b_0, b_1, b_2...]\n",
    "* 終了日時列 = [e_0, e_1, e_2, ...]\n",
    "\n",
    "* 設定期間\n",
    "  * 設定開始日　date_beginning, \n",
    "  * 設定終了日、date_end\n",
    "  \n",
    "* 設定期間と, [b_0, e_0], [b_1, e_1], ... との共通部分をとる."
   ]
  },
  {
   "cell_type": "markdown",
   "id": "d2af14e6",
   "metadata": {},
   "source": [
    "* Ignore minus gaps.\n",
    "* If no gaps, then use grand beginning a dn grand end\n"
   ]
  },
  {
   "cell_type": "code",
   "execution_count": null,
   "id": "a6ad01a0",
   "metadata": {},
   "outputs": [],
   "source": [
    "if gaps contains only zeros and minus values:\n",
    "    use grand_b, grand_e\n",
    "    take the intersection of (set_b, set_e) and (grand_b, grand_e)\n",
    "    calculate the duration of the intersection\n",
    "\n",
    "elif gaps contains positive numbers:\n",
    "    for interval in intervals:\n",
    "        take the intersection of (set_b, set_e) and (interval_b, interval_e)\n",
    "        calculate the duration of the intersection\n",
    "    add up the durations of the intersections\n",
    "    \n",
    "        "
   ]
  }
 ],
 "metadata": {
  "hide_input": false,
  "kernelspec": {
   "display_name": "base",
   "language": "python",
   "name": "base"
  },
  "language_info": {
   "codemirror_mode": {
    "name": "ipython",
    "version": 3
   },
   "file_extension": ".py",
   "mimetype": "text/x-python",
   "name": "python",
   "nbconvert_exporter": "python",
   "pygments_lexer": "ipython3",
   "version": "3.9.13"
  }
 },
 "nbformat": 4,
 "nbformat_minor": 5
}
