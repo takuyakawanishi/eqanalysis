{
 "cells": [
  {
   "cell_type": "code",
   "execution_count": 1,
   "id": "82463189",
   "metadata": {},
   "outputs": [],
   "source": [
    "# Mock data for test\n",
    "\n",
    "import numpy as np\n",
    "import pandas as pd\n",
    "import os\n",
    "import sys\n",
    "\n",
    "sys.path.append(\"../..\")\n",
    "\n",
    "import src.eqa_takuyakawanishi.eqa as eqa\n",
    "\n",
    "\n",
    "df = pd.DataFrame(\n",
    "    [\n",
    "        [1999, 1, 1, 1, 12, 0, 1],\n",
    "        [1999, 1, 10, 11, 12, 0, 2],\n",
    "        [1999, 1, 11, 11, 12, 0, 3],\n",
    "        [2000, 5, 12, 11, 12, 0, 1],\n",
    "        [2000, 2, 3, 1, 12, 0, 1],\n",
    "        [2005, 1, 1, 1, 12, 0, 2],\n",
    "        [2006, 1, 2, 14, 12, 0, 1],\n",
    "        [2006, 1, 3, 15, 12, 0, 1],\n",
    "        [2007, 2, 3, 1, 12, 0, 1],\n",
    "        [2007, 2, 3, 1, 12, 0, 1],\n",
    "    ],\n",
    "    columns=[\"year\", \"month\", \"day\", \"hour\", \"minite\", \"second\", \"intensity\"])\n",
    "\n",
    "# df = eqa.add_date_column_to_dataframe(df)\n",
    "df.to_csv(\"../../tests/stationwise_test/st_1001.txt\", index=None)"
   ]
  },
  {
   "cell_type": "code",
   "execution_count": 5,
   "id": "1321621f",
   "metadata": {},
   "outputs": [],
   "source": [
    "df = pd.DataFrame(\n",
    "    [\n",
    "        [2008, 10, 8, 12, 0, 0, 1],\n",
    "        [2008, 10, 8, 13, 0, 0, 2],\n",
    "        [2008, 12, 8, 12, 0, 0, 1],\n",
    "        [2009, 5, 5, 12, 0, 0, 1],\n",
    "        [2009, 5, 6, 12, 0, 0, 1],\n",
    "        [2009, 5, 7, 12, 0, 0, 2],\n",
    "        [2009, 5, 8, 12, 0, 0, 3],\n",
    "        [2010, 4, 8, 12, 0, 0, 1],\n",
    "    ],\n",
    "    columns=[\"year\", \"month\", \"day\", \"hour\", \"minite\", \"second\", \"intensity\"])\n",
    "df.to_csv(\"../../tests/stationwise_test/st_1002.txt\", index=None)"
   ]
  },
  {
   "cell_type": "code",
   "execution_count": 13,
   "id": "8c032791",
   "metadata": {},
   "outputs": [],
   "source": [
    "df = pd.DataFrame(\n",
    "    [\n",
    "        [1996, 4, 2, 12, 0, 0, 1],\n",
    "        [1996, 4, 3, 12, 0, 0, 1],\n",
    "        [1996, 4, 6, 12, 0, 0, 1],\n",
    "        [1997, 5, 12, 12, 0, 0, 1],\n",
    "        [1997, 5, 12, 13, 0, 0, 2],\n",
    "        [1998, 7, 5, 12, 0, 0, 4]\n",
    "    ],\n",
    "    columns=[\"year\", \"month\", \"day\", \"hour\", \"minite\", \"second\", \"intensity\"])\n",
    "df.to_csv(\"../../tests/stationwise_test/st_1000.txt\", index=None)"
   ]
  },
  {
   "cell_type": "code",
   "execution_count": 32,
   "id": "9c9736cd",
   "metadata": {},
   "outputs": [
    {
     "name": "stdout",
     "output_type": "stream",
     "text": [
      "station           1000\n",
      "from        1996-04-01\n",
      "to          2010-12-31\n",
      "duration          5247\n",
      "int1                24\n",
      "int2                 8\n",
      "int3                 3\n",
      "int4                 1\n",
      "int5                 0\n",
      "int6                 0\n",
      "int7                 0\n",
      "dtype: object\n"
     ]
    }
   ],
   "source": [
    "summary = pd.Series(dtype=\"Float64\")\n",
    "summary[\"station\"] = 1000\n",
    "summary[\"from\"] = \"1996-04-01\"\n",
    "summary[\"to\"] = \"2010-12-31\"\n",
    "summary[\"duration\"] = 5247\n",
    "summary[\"int1\"] = 24\n",
    "summary[\"int2\"] = 8\n",
    "summary[\"int3\"] = 3\n",
    "summary[\"int4\"] = 1\n",
    "summary[\"int5\"] = 0\n",
    "summary[\"int6\"] = 0\n",
    "summary[\"int7\"] = 0\n",
    "print(summary)"
   ]
  },
  {
   "cell_type": "code",
   "execution_count": 42,
   "id": "bf78700b",
   "metadata": {},
   "outputs": [
    {
     "name": "stdout",
     "output_type": "stream",
     "text": [
      "LinregressResult(slope=-0.4515449934959717, intercept=0.6573756369570516, rvalue=-0.9994657154190508, pvalue=0.02081137522701555, stderr=0.014766461302363615, intercept_stderr=0.04591079394663765)\n",
      "station            1000\n",
      "from         1996-04-01\n",
      "to           2010-12-31\n",
      "duration           5247\n",
      "int1                 24\n",
      "int2                  8\n",
      "int3                  3\n",
      "int4                  1\n",
      "int5                  0\n",
      "int6                  0\n",
      "int7                  0\n",
      "slope            -0.452\n",
      "intercept         0.657\n",
      "rvalue           -0.999\n",
      "est7            0.00314\n",
      "est6            0.00887\n",
      "dtype: object\n"
     ]
    }
   ],
   "source": [
    "ys = [24, 8, 3, 1]\n",
    "ints = [1, 2, 3, 4]\n",
    "freqs = np.array(ys) / 5247 * 365.2425\n",
    "lfreqs = np.log10(freqs)\n",
    "res = scipy.stats.linregress(ints[1:], lfreqs[1:])\n",
    "print(res)\n",
    "summary[\"slope\"] = np.round(res.slope, 3)\n",
    "summary[\"intercept\"] = np.round(res.intercept, 3)\n",
    "summary[\"rvalue\"] = np.round(res.rvalue, 3)\n",
    "summary[\"est7\"] = np.round(10 ** (res.intercept + res.slope * 7), 5)\n",
    "summary[\"est6\"] = np.round(10 ** (res.intercept + res.slope * 6), 5)\n",
    "summary.to_csv(\"../../tests/summary_test_intensity_frequency_regression_summary.csv\", index=True, header=False)\n",
    "print(summary)"
   ]
  },
  {
   "cell_type": "code",
   "execution_count": 46,
   "id": "529cc109",
   "metadata": {},
   "outputs": [
    {
     "name": "stdout",
     "output_type": "stream",
     "text": [
      "array([1.67063465, 0.55687822, 0.20882933, 0.06960978])\n"
     ]
    }
   ],
   "source": [
    "occurs = np.array([24, 8, 3, 1])\n",
    "freqa = occurs / summary[\"duration\"] * 365.2425\n",
    "print(repr(freqa))"
   ]
  },
  {
   "cell_type": "code",
   "execution_count": 10,
   "id": "461c8305",
   "metadata": {},
   "outputs": [
    {
     "data": {
      "text/plain": [
       "24"
      ]
     },
     "execution_count": 10,
     "metadata": {},
     "output_type": "execute_result"
    }
   ],
   "source": [
    "10 + 8 + 6"
   ]
  },
  {
   "cell_type": "code",
   "execution_count": 8,
   "id": "e75600cd",
   "metadata": {},
   "outputs": [
    {
     "data": {
      "text/plain": [
       "5247"
      ]
     },
     "execution_count": 8,
     "metadata": {},
     "output_type": "execute_result"
    }
   ],
   "source": [
    "943+3468 + 836"
   ]
  },
  {
   "cell_type": "code",
   "execution_count": 4,
   "id": "4151a551",
   "metadata": {},
   "outputs": [
    {
     "name": "stdout",
     "output_type": "stream",
     "text": [
      "array([1.24390244, 0.36585366, 0.17073171, 0.04878049, 0.        ,\n",
      "       0.        ])\n",
      "LinregressResult(slope=-0.4375306227928133, intercept=0.4738811192716964, rvalue=-0.9902623026684109, pvalue=0.08891526076138778, stderr=0.06150940167186901, intercept_stderr=0.19124050157407238)\n",
      "0.0025773105987571356 0.0070582556184879035\n"
     ]
    }
   ],
   "source": [
    "import numpy as np\n",
    "import scipy.stats\n",
    "\n",
    "\n",
    "ys = [102, 30, 14, 4, 0, 0]\n",
    "xs = [1, 2, 3, 4, 5, 6]\n",
    "# freq = np.array(ys) / 82\n",
    "\n",
    "freq = np.array([1.24390244, 0.36585366, 0.17073171, 0.04878049, 0.        ,0.        ])\n",
    "lfreq = np.log10(freq[:4])\n",
    "\n",
    "print(repr(freq))\n",
    "res = scipy.stats.linregress(xs[1:4], lfreq[1:])\n",
    "print(res)\n",
    "est7 = 10 ** (res.intercept + res.slope * 7)\n",
    "est6 = 10 ** (res.intercept + res.slope * 6)\n",
    "print(est7, est6)"
   ]
  }
 ],
 "metadata": {
  "hide_input": false,
  "kernelspec": {
   "display_name": "base",
   "language": "python",
   "name": "base"
  },
  "language_info": {
   "codemirror_mode": {
    "name": "ipython",
    "version": 3
   },
   "file_extension": ".py",
   "mimetype": "text/x-python",
   "name": "python",
   "nbconvert_exporter": "python",
   "pygments_lexer": "ipython3",
   "version": "3.9.13"
  }
 },
 "nbformat": 4,
 "nbformat_minor": 5
}
