{
 "cells": [
  {
   "cell_type": "markdown",
   "id": "bab3f0a7",
   "metadata": {},
   "source": [
    "# 観測地点別震度ー頻度関係解析ツール\n",
    "\n",
    "## 緒論\n",
    "\n",
    "### 背景と目的"
   ]
  },
  {
   "cell_type": "markdown",
   "id": "e68e548c",
   "metadata": {},
   "source": [
    "## ツールの構成\n",
    "\n",
    "### データ\n",
    "\n",
    "#### 観測点グループ化データ\n",
    "\n",
    "#### 観測点毎の震度データ"
   ]
  },
  {
   "cell_type": "markdown",
   "id": "abf1eb8d",
   "metadata": {},
   "source": [
    "## 使い方"
   ]
  }
 ],
 "metadata": {
  "hide_input": false,
  "kernelspec": {
   "display_name": "base",
   "language": "python",
   "name": "base"
  },
  "language_info": {
   "codemirror_mode": {
    "name": "ipython",
    "version": 3
   },
   "file_extension": ".py",
   "mimetype": "text/x-python",
   "name": "python",
   "nbconvert_exporter": "python",
   "pygments_lexer": "ipython3",
   "version": "3.9.13"
  }
 },
 "nbformat": 4,
 "nbformat_minor": 5
}
