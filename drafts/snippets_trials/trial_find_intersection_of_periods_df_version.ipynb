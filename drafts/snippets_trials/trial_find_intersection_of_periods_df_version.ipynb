{
 "cells": [
  {
   "cell_type": "code",
   "execution_count": 6,
   "id": "33717136",
   "metadata": {},
   "outputs": [
    {
     "name": "stdout",
     "output_type": "stream",
     "text": [
      "[['1996-04-01' '2009-08-21']\n",
      " ['2009-09-01' '2010-01-28']\n",
      " ['2010-01-28' '2014-10-03']\n",
      " ['2014-10-03' '2023-12-31']]\n"
     ]
    }
   ],
   "source": [
    "import pandas as pd\n",
    "\n",
    "\n",
    "set_period = {\"set_from\": '1996-04-01', \"set_to\": \"2019-12-31\"}\n",
    "df = pd.DataFrame([('1996-04-01', '2009-08-21'), ('2009-09-01', '2010-01-28'), ('2010-01-28', '2014-10-03'), ('2014-10-03', '2023-12-31')]\n",
    ", columns = [\"from\", \"to\"])\n",
    "df[\"set_from\"] = set_period[\"set_from\"]\n",
    "df[\"set_to\"] = set_period[\"set_to\"]\n",
    "periods = df[[\"from\", \"to\"]].values\n",
    "print(periods)"
   ]
  }
 ],
 "metadata": {
  "hide_input": false,
  "kernelspec": {
   "display_name": "base",
   "language": "python",
   "name": "base"
  },
  "language_info": {
   "codemirror_mode": {
    "name": "ipython",
    "version": 3
   },
   "file_extension": ".py",
   "mimetype": "text/x-python",
   "name": "python",
   "nbconvert_exporter": "python",
   "pygments_lexer": "ipython3",
   "version": "3.9.13"
  }
 },
 "nbformat": 4,
 "nbformat_minor": 5
}
