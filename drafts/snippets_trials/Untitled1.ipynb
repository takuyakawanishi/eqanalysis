{
 "cells": [
  {
   "cell_type": "markdown",
   "id": "34f51e54",
   "metadata": {},
   "source": [
    "### Count intensities\n",
    "\n",
    "#### Strategy\n",
    "\n",
    "* Based on the dataframe containing stations and periods of anlysis (from, to).\n"
   ]
  },
  {
   "cell_type": "markdown",
   "id": "51786e3d",
   "metadata": {},
   "source": [
    "```Python\n",
    "if duration > 0:\n",
    "    df = pd.read_csv(filename_station)\n",
    "    df[\"date\"] = date from year, month, day\n",
    "    dfsub = take the data of \"date\" is between from to\n",
    "    count the number of intensities:\n",
    "\n",
    "```"
   ]
  }
 ],
 "metadata": {
  "hide_input": false,
  "kernelspec": {
   "display_name": "base",
   "language": "python",
   "name": "base"
  },
  "language_info": {
   "codemirror_mode": {
    "name": "ipython",
    "version": 3
   },
   "file_extension": ".py",
   "mimetype": "text/x-python",
   "name": "python",
   "nbconvert_exporter": "python",
   "pygments_lexer": "ipython3",
   "version": "3.9.13"
  }
 },
 "nbformat": 4,
 "nbformat_minor": 5
}
