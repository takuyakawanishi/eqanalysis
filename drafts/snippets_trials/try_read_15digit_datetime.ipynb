{
 "cells": [
  {
   "cell_type": "code",
   "execution_count": 4,
   "id": "8b7ba7ed",
   "metadata": {},
   "outputs": [
    {
     "name": "stdout",
     "output_type": "stream",
     "text": [
      "2006-06-20 12:00:00\n",
      "2006-06-20\n"
     ]
    }
   ],
   "source": [
    "import datetime\n",
    "import os\n",
    "import sys\n",
    "sys.path.append(\"../..\")\n",
    "import src.eqa_takuyakawanishi.eqa as eqa\n",
    "\n",
    "\n",
    "dt12 = 200606201200\n",
    "res = eqa.read_12digit_datetime(dt12)\n",
    "print(res)\n",
    "print(res.date())"
   ]
  },
  {
   "cell_type": "code",
   "execution_count": 6,
   "id": "89f24b10",
   "metadata": {},
   "outputs": [
    {
     "name": "stdout",
     "output_type": "stream",
     "text": [
      "nan\n"
     ]
    }
   ],
   "source": [
    "import pandas as pd\n",
    "\n",
    "meta = pd.read_csv(\"../../data/code_p_df.csv\")\n",
    "print(meta.at[2, \"to\"])"
   ]
  }
 ],
 "metadata": {
  "hide_input": false,
  "kernelspec": {
   "display_name": "base",
   "language": "python",
   "name": "base"
  },
  "language_info": {
   "codemirror_mode": {
    "name": "ipython",
    "version": 3
   },
   "file_extension": ".py",
   "mimetype": "text/x-python",
   "name": "python",
   "nbconvert_exporter": "python",
   "pygments_lexer": "ipython3",
   "version": "3.9.13"
  }
 },
 "nbformat": 4,
 "nbformat_minor": 5
}
