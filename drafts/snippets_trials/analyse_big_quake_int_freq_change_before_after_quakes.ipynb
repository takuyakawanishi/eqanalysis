{
 "cells": [
  {
   "cell_type": "code",
   "execution_count": 1,
   "id": "ba631a2a",
   "metadata": {},
   "outputs": [
    {
     "name": "stdout",
     "output_type": "stream",
     "text": [
      "   code_prime  duration_0  est6p5_0  slope_0  intercept_0  duration_700  \\\n",
      "0     1460630        5882   0.01700   -0.595        2.099        6582.0   \n",
      "1     1460920        4571   0.01410   -0.642        2.320        5271.0   \n",
      "2     1460921        4571   0.00603   -0.688        2.251        5271.0   \n",
      "\n",
      "   est6p5_700  slope_700  intercept_700  \n",
      "0      0.0296     -0.578          2.230  \n",
      "1      0.0339     -0.607          2.474  \n",
      "2      0.0306     -0.599          2.379  \n"
     ]
    },
    {
     "data": {
      "text/html": [
       "<div>\n",
       "<style scoped>\n",
       "    .dataframe tbody tr th:only-of-type {\n",
       "        vertical-align: middle;\n",
       "    }\n",
       "\n",
       "    .dataframe tbody tr th {\n",
       "        vertical-align: top;\n",
       "    }\n",
       "\n",
       "    .dataframe thead th {\n",
       "        text-align: right;\n",
       "    }\n",
       "</style>\n",
       "<table border=\"1\" class=\"dataframe\">\n",
       "  <thead>\n",
       "    <tr style=\"text-align: right;\">\n",
       "      <th></th>\n",
       "      <th>code_prime</th>\n",
       "      <th>duration_0</th>\n",
       "      <th>est6p5_0</th>\n",
       "      <th>slope_0</th>\n",
       "      <th>intercept_0</th>\n",
       "      <th>duration_700</th>\n",
       "      <th>est6p5_700</th>\n",
       "      <th>slope_700</th>\n",
       "      <th>intercept_700</th>\n",
       "      <th>ratio</th>\n",
       "    </tr>\n",
       "  </thead>\n",
       "  <tbody>\n",
       "    <tr>\n",
       "      <th>count</th>\n",
       "      <td>3.300000e+01</td>\n",
       "      <td>33.000000</td>\n",
       "      <td>33.000000</td>\n",
       "      <td>33.000000</td>\n",
       "      <td>33.000000</td>\n",
       "      <td>33.000000</td>\n",
       "      <td>33.000000</td>\n",
       "      <td>33.000000</td>\n",
       "      <td>33.000000</td>\n",
       "      <td>33.000000</td>\n",
       "    </tr>\n",
       "    <tr>\n",
       "      <th>mean</th>\n",
       "      <td>4.283385e+06</td>\n",
       "      <td>6051.757576</td>\n",
       "      <td>0.023659</td>\n",
       "      <td>-0.641636</td>\n",
       "      <td>2.322333</td>\n",
       "      <td>6736.060606</td>\n",
       "      <td>0.041343</td>\n",
       "      <td>-0.629242</td>\n",
       "      <td>2.632939</td>\n",
       "      <td>3.617114</td>\n",
       "    </tr>\n",
       "    <tr>\n",
       "      <th>std</th>\n",
       "      <td>2.348403e+06</td>\n",
       "      <td>4164.080834</td>\n",
       "      <td>0.021717</td>\n",
       "      <td>0.120585</td>\n",
       "      <td>0.451310</td>\n",
       "      <td>4163.738374</td>\n",
       "      <td>0.028942</td>\n",
       "      <td>0.077387</td>\n",
       "      <td>0.496071</td>\n",
       "      <td>4.634379</td>\n",
       "    </tr>\n",
       "    <tr>\n",
       "      <th>min</th>\n",
       "      <td>1.460630e+06</td>\n",
       "      <td>4032.000000</td>\n",
       "      <td>0.001090</td>\n",
       "      <td>-0.938000</td>\n",
       "      <td>1.466000</td>\n",
       "      <td>4732.000000</td>\n",
       "      <td>0.007420</td>\n",
       "      <td>-0.760000</td>\n",
       "      <td>1.649000</td>\n",
       "      <td>0.477663</td>\n",
       "    </tr>\n",
       "    <tr>\n",
       "      <th>25%</th>\n",
       "      <td>3.000131e+06</td>\n",
       "      <td>4530.000000</td>\n",
       "      <td>0.006480</td>\n",
       "      <td>-0.703000</td>\n",
       "      <td>2.006000</td>\n",
       "      <td>5230.000000</td>\n",
       "      <td>0.027800</td>\n",
       "      <td>-0.698000</td>\n",
       "      <td>2.340000</td>\n",
       "      <td>1.507553</td>\n",
       "    </tr>\n",
       "    <tr>\n",
       "      <th>50%</th>\n",
       "      <td>3.110631e+06</td>\n",
       "      <td>5457.000000</td>\n",
       "      <td>0.017000</td>\n",
       "      <td>-0.642000</td>\n",
       "      <td>2.320000</td>\n",
       "      <td>6157.000000</td>\n",
       "      <td>0.031000</td>\n",
       "      <td>-0.609000</td>\n",
       "      <td>2.575000</td>\n",
       "      <td>2.252511</td>\n",
       "    </tr>\n",
       "    <tr>\n",
       "      <th>75%</th>\n",
       "      <td>7.410630e+06</td>\n",
       "      <td>6392.000000</td>\n",
       "      <td>0.038300</td>\n",
       "      <td>-0.551000</td>\n",
       "      <td>2.622000</td>\n",
       "      <td>7092.000000</td>\n",
       "      <td>0.049900</td>\n",
       "      <td>-0.581000</td>\n",
       "      <td>3.017000</td>\n",
       "      <td>3.981481</td>\n",
       "    </tr>\n",
       "    <tr>\n",
       "      <th>max</th>\n",
       "      <td>7.415330e+06</td>\n",
       "      <td>28481.000000</td>\n",
       "      <td>0.076800</td>\n",
       "      <td>-0.408000</td>\n",
       "      <td>3.132000</td>\n",
       "      <td>29181.000000</td>\n",
       "      <td>0.157000</td>\n",
       "      <td>-0.416000</td>\n",
       "      <td>3.385000</td>\n",
       "      <td>26.238532</td>\n",
       "    </tr>\n",
       "  </tbody>\n",
       "</table>\n",
       "</div>"
      ],
      "text/plain": [
       "         code_prime    duration_0   est6p5_0    slope_0  intercept_0  \\\n",
       "count  3.300000e+01     33.000000  33.000000  33.000000    33.000000   \n",
       "mean   4.283385e+06   6051.757576   0.023659  -0.641636     2.322333   \n",
       "std    2.348403e+06   4164.080834   0.021717   0.120585     0.451310   \n",
       "min    1.460630e+06   4032.000000   0.001090  -0.938000     1.466000   \n",
       "25%    3.000131e+06   4530.000000   0.006480  -0.703000     2.006000   \n",
       "50%    3.110631e+06   5457.000000   0.017000  -0.642000     2.320000   \n",
       "75%    7.410630e+06   6392.000000   0.038300  -0.551000     2.622000   \n",
       "max    7.415330e+06  28481.000000   0.076800  -0.408000     3.132000   \n",
       "\n",
       "       duration_700  est6p5_700  slope_700  intercept_700      ratio  \n",
       "count     33.000000   33.000000  33.000000      33.000000  33.000000  \n",
       "mean    6736.060606    0.041343  -0.629242       2.632939   3.617114  \n",
       "std     4163.738374    0.028942   0.077387       0.496071   4.634379  \n",
       "min     4732.000000    0.007420  -0.760000       1.649000   0.477663  \n",
       "25%     5230.000000    0.027800  -0.698000       2.340000   1.507553  \n",
       "50%     6157.000000    0.031000  -0.609000       2.575000   2.252511  \n",
       "75%     7092.000000    0.049900  -0.581000       3.017000   3.981481  \n",
       "max    29181.000000    0.157000  -0.416000       3.385000  26.238532  "
      ]
     },
     "execution_count": 1,
     "metadata": {},
     "output_type": "execute_result"
    },
    {
     "data": {
      "image/png": "[encoded data removed]",
      "text/plain": [
       "<Figure size 640x480 with 1 Axes>"
      ]
     },
     "metadata": {},
     "output_type": "display_data"
    },
    {
     "data": {
      "image/png": "[encoded data removed]",
      "text/plain": [
       "<Figure size 640x480 with 1 Axes>"
      ]
     },
     "metadata": {},
     "output_type": "display_data"
    }
   ],
   "source": [
    "import matplotlib.pyplot as plt\n",
    "import pandas as pd\n",
    "\n",
    "df = pd.read_csv(\"../../examples_1st_paper/snippets/temp.csv\")\n",
    "print(df.head(3))\n",
    "\n",
    "# df = df[df[\"duration_0\"] >= 365.2425 * 10]\n",
    "\n",
    "fig, ax = plt.subplots()\n",
    "df[\"duration_0\"].hist(ax=ax)\n",
    "df[\"ratio\"] = df[\"est6p5_700\"] / df[\"est6p5_0\"]\n",
    "fig1, ax1 = plt.subplots()\n",
    "df[\"ratio\"].hist(ax=ax1)\n",
    "\n",
    "df.describe()"
   ]
  },
  {
   "cell_type": "code",
   "execution_count": 2,
   "id": "c3651742",
   "metadata": {},
   "outputs": [
    {
     "data": {
      "text/plain": [
       "<matplotlib.collections.PathCollection at 0x142edab20>"
      ]
     },
     "execution_count": 2,
     "metadata": {},
     "output_type": "execute_result"
    },
    {
     "data": {
      "image/png": "[encoded data removed]",
      "text/plain": [
       "<Figure size 360x360 with 1 Axes>"
      ]
     },
     "metadata": {},
     "output_type": "display_data"
    }
   ],
   "source": [
    "import matplotlib.pyplot as plt\n",
    "import numpy as np\n",
    "import pandas as pd\n",
    "\n",
    "\n",
    "n = len(df)\n",
    "sf = 1 - (np.arange(n) + 1) / (n + 1)\n",
    "x = np.sort(df[\"ratio\"])\n",
    "fig, ax = plt.subplots(figsize=(3.6, 3.6))\n",
    "ax.set_xscale(\"log\")\n",
    "ax.set_yscale(\"log\")\n",
    "ax.scatter(x, sf)"
   ]
  },
  {
   "cell_type": "code",
   "execution_count": 3,
   "id": "b39635bd",
   "metadata": {},
   "outputs": [
    {
     "name": "stdout",
     "output_type": "stream",
     "text": [
      "intensity_frequency_before_after_big_quakes_02.py\r\n",
      "intensity_frequency_selected_stations.py\r\n",
      "temp.csv\r\n"
     ]
    }
   ],
   "source": [
    "ls ../../examples_1st_paper/snippets/"
   ]
  }
 ],
 "metadata": {
  "hide_input": false,
  "kernelspec": {
   "display_name": "base",
   "language": "python",
   "name": "base"
  },
  "language_info": {
   "codemirror_mode": {
    "name": "ipython",
    "version": 3
   },
   "file_extension": ".py",
   "mimetype": "text/x-python",
   "name": "python",
   "nbconvert_exporter": "python",
   "pygments_lexer": "ipython3",
   "version": "3.9.13"
  }
 },
 "nbformat": 4,
 "nbformat_minor": 5
}
